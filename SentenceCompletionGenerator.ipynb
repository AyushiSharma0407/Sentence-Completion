{
  "nbformat": 4,
  "nbformat_minor": 0,
  "metadata": {
    "colab": {
      "provenance": []
    },
    "kernelspec": {
      "name": "python3",
      "display_name": "Python 3"
    },
    "language_info": {
      "name": "python"
    }
  },
  "cells": [
    {
      "cell_type": "code",
      "execution_count": null,
      "metadata": {
        "id": "E8hJHLaHrlnn"
      },
      "outputs": [],
      "source": [
        "# Install necessary libraries\n",
        "!pip install transformers ipywidgets\n",
        "\n",
        "# Import libraries\n",
        "import ipywidgets as widgets\n",
        "from IPython.display import display\n",
        "from transformers import pipeline, set_seed\n",
        "\n",
        "def load_text_completer(model_name='gpt2', temperature=0.7, top_p=0.9, repetition_penalty=1.2, seed=None):\n",
        "    \"\"\"\n",
        "    Loads a text-generation pipeline for completing texts.\n",
        "    \"\"\"\n",
        "    if seed is not None:\n",
        "        set_seed(seed)\n",
        "\n",
        "    completer = pipeline(\n",
        "        'text-generation',\n",
        "        model=model_name,\n",
        "        temperature=temperature,\n",
        "        top_p=top_p,\n",
        "        repetition_penalty=repetition_penalty\n",
        "    )\n",
        "    return completer\n",
        "\n"
      ]
    },
    {
      "cell_type": "code",
      "source": [
        "def complete_text(completer, prompt, max_length=50):\n",
        "    \"\"\"\n",
        "    Completes a given sentence prompt, ensuring only one sentence is returned.\n",
        "    \"\"\"\n",
        "    output = completer(prompt, max_length=max_length, num_return_sequences=1)[0]\n",
        "    completion = output['generated_text'].strip()\n",
        "\n",
        "    if '.' in completion:\n",
        "        first_sentence = completion.split('.')[0].strip() + '.'\n",
        "    else:\n",
        "        first_sentence = completion.strip()\n",
        "\n",
        "    return first_sentence\n",
        "\n",
        "# Create input widgets\n",
        "prompt_input = widgets.Textarea(\n",
        "    value='',\n",
        "    placeholder='Enter the beginning of a sentence...',\n",
        "    description='Prompt:',\n",
        "    disabled=False,\n",
        "    layout=widgets.Layout(width='400px', height='100px')\n",
        ")\n",
        "\n",
        "# Create a styled output box\n",
        "output_box = widgets.Output(layout=widgets.Layout(\n",
        "    border='2px solid gray',\n",
        "    padding='10px',\n",
        "    width='500px',\n",
        "    height='150px',\n",
        "    overflow_y='auto'\n",
        "))\n",
        "\n",
        "# Function to handle text generation\n",
        "def on_button_click(b):\n",
        "    output_box.clear_output()  # Clear previous output\n",
        "    prompt = prompt_input.value.strip()\n",
        "\n",
        "    if not prompt:\n",
        "        with output_box:\n",
        "            print(\"⚠️ Please enter a prompt!\")\n",
        "        return\n",
        "\n",
        "    # Load model\n",
        "    text_completer = load_text_completer(model_name='gpt2', temperature=0.7, top_p=0.9, repetition_penalty=1.2, seed=42)\n",
        "\n",
        "    # Generate text\n",
        "    completed_text = complete_text(text_completer, prompt, max_length=50)\n",
        "\n",
        "    with output_box:\n",
        "        print(f\"📝 Generated Text:\\n\\n{completed_text}\")\n",
        "\n",
        "# Create button\n",
        "generate_button = widgets.Button(\n",
        "    description=\"Generate Text\",\n",
        "    button_style='success'\n",
        ")\n",
        "generate_button.on_click(on_button_click)\n",
        "\n",
        "# Display everything\n",
        "display(prompt_input, generate_button, output_box)\n"
      ],
      "metadata": {
        "id": "f6ZtLc80tQef"
      },
      "execution_count": null,
      "outputs": []
    }
  ]
}